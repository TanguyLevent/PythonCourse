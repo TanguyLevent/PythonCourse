{
 "cells": [
  {
   "cell_type": "markdown",
   "metadata": {},
   "source": [
    "# Welcome in the class 01 of Python for Beginners"
   ]
  },
  {
   "cell_type": "markdown",
   "metadata": {},
   "source": [
    "## Chapter 01 - Introduction to python "
   ]
  },
  {
   "cell_type": "markdown",
   "metadata": {},
   "source": [
    "- Write a comment with # : My first line in python\n",
    "- Use the command : print(« Hello World »)\n",
    "\n",
    "Answers:"
   ]
  },
  {
   "cell_type": "code",
   "execution_count": 2,
   "metadata": {},
   "outputs": [
    {
     "name": "stdout",
     "output_type": "stream",
     "text": [
      "Hello World\n"
     ]
    }
   ],
   "source": [
    "# My first line in Python\n",
    "print(\"Hello World\")"
   ]
  },
  {
   "cell_type": "markdown",
   "metadata": {},
   "source": [
    "## Chapter 02 - Python objects: variables, types, operators"
   ]
  },
  {
   "cell_type": "markdown",
   "metadata": {},
   "source": [
    "- Create a variable a with a number type\n",
    "- Create a variable b with a number type\n",
    "- Create a new variable Result as the addition between the two variables : a and b (use + operation symbol)\n",
    "- Print the variable Result to display it on the screen\n",
    "- print(name_variable)\n",
    "- Try to add directly the add operation into the print function\n",
    "\n",
    "Answers:"
   ]
  },
  {
   "cell_type": "code",
   "execution_count": 10,
   "metadata": {},
   "outputs": [
    {
     "name": "stdout",
     "output_type": "stream",
     "text": [
      "Answer 1: 4.5\n",
      "Answer 2: 4.5\n"
     ]
    }
   ],
   "source": [
    "a = 1\n",
    "b = 3.5\n",
    "result = a + b\n",
    "print(\"Answer 1:\", result)\n",
    "print(\"Answer 2:\",a+b)"
   ]
  },
  {
   "cell_type": "markdown",
   "metadata": {},
   "source": [
    "- Create a variable with a number type and a value\n",
    "- Create a variable with a string type and a value\n",
    "- Create a variable with a bool type and a value\n",
    "- Create a list type of numbers\n",
    "- Name_variable = [nb1, nb2, ….,nbN]\n",
    "- Check the type of all your variables with the command\n",
    "- type(name_variable)\n",
    "\n",
    "Answers"
   ]
  },
  {
   "cell_type": "code",
   "execution_count": 13,
   "metadata": {},
   "outputs": [
    {
     "name": "stdout",
     "output_type": "stream",
     "text": [
      "<class 'int'>\n",
      "<class 'str'>\n",
      "<class 'bool'>\n",
      "<class 'list'>\n"
     ]
    }
   ],
   "source": [
    "type_int = 1\n",
    "type_str = \"Python\"\n",
    "type_bool = True #or False\n",
    "type_list = [1,2,3,4,5]\n",
    "\n",
    "print(type(type_int))\n",
    "print(type(type_str))\n",
    "print(type(type_bool))\n",
    "print(type(type_list))"
   ]
  },
  {
   "cell_type": "markdown",
   "metadata": {},
   "source": [
    "- Create two variables with type number and two different values\n",
    "- Operate an addition, a substraction, a multiplication, a division and a modulo\n",
    "- Print them"
   ]
  },
  {
   "cell_type": "code",
   "execution_count": 19,
   "metadata": {},
   "outputs": [
    {
     "name": "stdout",
     "output_type": "stream",
     "text": [
      "RESULT:\n",
      "addition: 12 /substraction: 8 /multiplication: 20 /division: 5.0 /modulo: 0\n"
     ]
    }
   ],
   "source": [
    "nb1 = 10\n",
    "nb2 = 2\n",
    "add = nb1 + nb2\n",
    "sub = nb1 - nb2\n",
    "prod = nb1 * nb2\n",
    "div = nb1/nb2\n",
    "mod = nb1%nb2\n",
    "\n",
    "print(\"RESULT:\")\n",
    "print(\"addition:\",add,\"/substraction:\",sub,\"/multiplication:\",prod,\"/division:\",div,\"/modulo:\",mod)"
   ]
  },
  {
   "cell_type": "markdown",
   "metadata": {},
   "source": [
    "- Create two variables i and j equal to 1\n",
    "- Print i = i+1\n",
    "- Print j += 1\n",
    "- Compare them with a relational operator and print the output (true or false)"
   ]
  },
  {
   "cell_type": "code",
   "execution_count": 27,
   "metadata": {},
   "outputs": [
    {
     "name": "stdout",
     "output_type": "stream",
     "text": [
      "i = 2\n",
      "j = 2\n",
      "i = j? ==> True\n",
      "i not j? ==> False\n"
     ]
    }
   ],
   "source": [
    "i = 1\n",
    "j = 1\n",
    "i = i + 1\n",
    "j+=1\n",
    "print(\"i =\", i)\n",
    "print(\"j =\",j)\n",
    "print(\"i = j? ==>\", i==j)\n",
    "print(\"i not j? ==>\", i!=j)"
   ]
  },
  {
   "cell_type": "markdown",
   "metadata": {},
   "source": [
    "- Create a variable name with your 1st name and print it\n",
    "- Print name[index] (Index: number between 0 and length of your string variable)\n",
    "- Print name[-1]\n",
    "- Call the length function: len(name_variable)\n",
    "- Create a variable family_name with your name\n",
    "- Concatenates the 2 variables with the + operator\n",
    "- Slice your name with : name[1:], name[:1], name[-1:], name[:-1] (You can change the number to interact with the slicing mode)"
   ]
  },
  {
   "cell_type": "code",
   "execution_count": 41,
   "metadata": {},
   "outputs": [
    {
     "name": "stdout",
     "output_type": "stream",
     "text": [
      "My first name is Tanguy\n",
      "First letter of my name: T\n",
      "Last letter of my name: y\n",
      "Length of my name: 6 letters\n",
      "My first and family name is : Tanguy Levent\n"
     ]
    }
   ],
   "source": [
    "first_name = \"Tanguy\"\n",
    "print(\"My first name is\", first_name)\n",
    "print(\"First letter of my name:\",first_name[0])\n",
    "print(\"Last letter of my name:\",first_name[-1])\n",
    "print(\"Length of my name:\",len(first_name),\"letters\")\n",
    "family_name = \"Levent\"\n",
    "total_name = first_name + \" \" + family_name\n",
    "print(\"My first and family name is :\",total_name)"
   ]
  },
  {
   "cell_type": "markdown",
   "metadata": {},
   "source": [
    "- Create a list of three numbers called list1 and print it\n",
    "- Check the type of your list\n",
    "- Create a new list called list2 constists of : your name, your two lucky numbers in a list, a bool if you like Python or not\n",
    "- Print it\n",
    "- Print list1[0], list1[3], list2[2], list2[-2], type(list2[1]), type(list2[2])\n",
    "- Add your favourite color in list2"
   ]
  },
  {
   "cell_type": "code",
   "execution_count": 47,
   "metadata": {},
   "outputs": [
    {
     "name": "stdout",
     "output_type": "stream",
     "text": [
      "My list 1 content is: [1, 2, 3]\n",
      "The type of my variable list1 is: <class 'list'>\n",
      "My list 2 content is: ['Tanguy', [7, 9], True]\n",
      "1 3 True [7, 9] <class 'list'> <class 'bool'>\n",
      "['Tanguy', [7, 9], True, 'Yellow']\n"
     ]
    }
   ],
   "source": [
    "list1 = [1,2,3]\n",
    "print(\"My list 1 content is:\", list1)\n",
    "print(\"The type of my variable list1 is:\", type(list1))\n",
    "list2 = [\"Tanguy\",[7,9],True]\n",
    "print(\"My list 2 content is:\", list2)\n",
    "print(list1[0], list1[2], list2[2], list2[-2], type(list2[1]), type(list2[2]))\n",
    "list2.append(\"Yellow\")\n",
    "print(list2)"
   ]
  },
  {
   "cell_type": "markdown",
   "metadata": {},
   "source": [
    "!!! Careful: if you try list1[3] you will have an error because even if len of list1 = 3, its index is from 0 to 2 !"
   ]
  },
  {
   "cell_type": "markdown",
   "metadata": {},
   "source": [
    "- Create a tuple of two elements called tuple1 and print the type of your variable tuple1\n",
    "- Interact with your tuple with tuple1[0] … (like for the lists)\n",
    "- Try (a,b) = tuple1\n",
    "- Print a and b\n",
    "- Swap two numbers keeping the same variables\n",
    "- Concatenate two tuples (use + operator)"
   ]
  },
  {
   "cell_type": "code",
   "execution_count": 59,
   "metadata": {},
   "outputs": [
    {
     "name": "stdout",
     "output_type": "stream",
     "text": [
      "<class 'tuple'>\n",
      "First element of my tuple: 1 of type: <class 'int'>\n",
      "Second element of my tuple: Tanguy of type: <class 'str'>\n",
      "a: 1 b: Tanguy\n",
      "a: Tanguy b: 1\n",
      "My concatenate tuple is: (1, 'Tanguy', 'Tanguy', 1)\n"
     ]
    }
   ],
   "source": [
    "tuple1 = (1,\"Tanguy\")\n",
    "print(type(tuple1))\n",
    "print(\"First element of my tuple:\", tuple1[0], \"of type:\",type(tuple1[0]))\n",
    "print(\"Second element of my tuple:\", tuple1[1],\"of type:\",type(tuple1[1]))\n",
    "(a,b)=tuple1\n",
    "print(\"a:\", a, \"b:\",b)\n",
    "(b,a)=(a,b)\n",
    "print(\"a:\", a, \"b:\",b)\n",
    "concat_tuple = tuple1 + (a,b)\n",
    "print(\"My concatenate tuple is:\", concat_tuple)"
   ]
  },
  {
   "cell_type": "markdown",
   "metadata": {},
   "source": [
    "## Chapter 03 : Conditional Statement: if-elif-else"
   ]
  },
  {
   "cell_type": "markdown",
   "metadata": {},
   "source": [
    "- Ask the user to write the note of the student by using the input function: name_variable = input(« Enter the student note: »)\n",
    "- Write an if-else condition to display if the student succeed the exam or not (above 12)"
   ]
  },
  {
   "cell_type": "code",
   "execution_count": 66,
   "metadata": {},
   "outputs": [
    {
     "name": "stdout",
     "output_type": "stream",
     "text": [
      "Please enter the student name:Elodie\n",
      "Please enter the student mark:15\n",
      "Elodie succeed the exam\n"
     ]
    }
   ],
   "source": [
    "student_name = input(\"Please enter the student name:\")\n",
    "student_mark = input(\"Please enter the student mark:\")\n",
    "student_mark = int(student_mark)\n",
    "\n",
    "if student_mark > 12:\n",
    "    \n",
    "    print(student_name,\"succeed the exam\")\n",
    "\n",
    "else:\n",
    "    \n",
    "    print(student_name,\"fail the exam\")"
   ]
  },
  {
   "cell_type": "markdown",
   "metadata": {},
   "source": [
    "# __<font color='red'>Two exercices for next time!! </font>__"
   ]
  },
  {
   "cell_type": "markdown",
   "metadata": {},
   "source": [
    "###  Exercice 1\n",
    "- Code the program: Do you want to play ouside with me? \n",
    "\n",
    "Instruction: follow the decision tree on this picture:\n",
    "https://www.google.com/search?q=decision+tree+weather+humidity+wind&rlz=1C1CHBD_frFR834FR834&sxsrf=ACYBGNSgD1LfnI63WbhkhbZI1X5VjZcQFA:1568886026361&source=lnms&tbm=isch&sa=X&ved=0ahUKEwj3gq3yy9zkAhXpzIUKHZdKCsgQ_AUIEigB&cshid=1568886219849323&biw=1920&bih=1057#imgrc=wUFSHLwYLWIDJM:"
   ]
  },
  {
   "cell_type": "markdown",
   "metadata": {},
   "source": [
    "###  Exercice 2 \n",
    "- Find the value of the function\n",
    "    - $f(x) = x^2 + 5x + 3$  __if__ $x > 2$\n",
    "    - $f(x) = x + 3$ __if__ $x \\leq 2$"
   ]
  },
  {
   "cell_type": "code",
   "execution_count": null,
   "metadata": {},
   "outputs": [],
   "source": []
  }
 ],
 "metadata": {
  "kernelspec": {
   "display_name": "Python 3",
   "language": "python",
   "name": "python3"
  },
  "language_info": {
   "codemirror_mode": {
    "name": "ipython",
    "version": 3
   },
   "file_extension": ".py",
   "mimetype": "text/x-python",
   "name": "python",
   "nbconvert_exporter": "python",
   "pygments_lexer": "ipython3",
   "version": "3.7.3"
  }
 },
 "nbformat": 4,
 "nbformat_minor": 2
}
